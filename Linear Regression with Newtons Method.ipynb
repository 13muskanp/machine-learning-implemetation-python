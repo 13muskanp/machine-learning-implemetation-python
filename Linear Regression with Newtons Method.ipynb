{
 "cells": [
  {
   "cell_type": "code",
   "execution_count": 242,
   "metadata": {},
   "outputs": [],
   "source": [
    "class LinearRegression:\n",
    "    \n",
    "    def fit(self, X, y, epochs=10, lr=0.1):\n",
    "        X = np.insert(X, 0, 1, axis=1)\n",
    "        self.weights = np.zeros(X.shape[1])\n",
    "        self.loss = []\n",
    "        Xs = X.T.dot(X)\n",
    "        for i in range(epochs):\n",
    "            h = X.dot(self.weights)\n",
    "            self.loss.append(((y - h) ** 2).sum()/len(X))\n",
    "            H = np.linalg.pinv(2 * Xs)\n",
    "            gradient = (h - y).dot(X)\n",
    "            self.weights -= H.dot(gradient)\n",
    "        return self\n",
    "    \n",
    "    def predict(self, X):\n",
    "        return np.insert(X, 0, 1, axis=1).dot(self.weights)"
   ]
  },
  {
   "cell_type": "code",
   "execution_count": 243,
   "metadata": {},
   "outputs": [
    {
     "data": {
      "image/png": "[encoded data removed]",
      "text/plain": [
       "<Figure size 432x288 with 1 Axes>"
      ]
     },
     "metadata": {
      "needs_background": "light"
     },
     "output_type": "display_data"
    }
   ],
   "source": [
    "# Generating our data.\n",
    "import matplotlib.pyplot as plt\n",
    "X = np.linspace(1.0, 10.0, 100)[:, np.newaxis]\n",
    "Y = np.sin(X) + 0.1 * np.power(X, 2) + 0.5 * np.random.randn(100, 1)\n",
    "X /= np.max(X)\n",
    "\n",
    "X = np.hstack((np.ones_like(X), X))\n",
    "\n",
    "order = np.random.permutation(len(X))\n",
    "portion = 20\n",
    "\n",
    "\"\"\"\n",
    "    Split your data into train and test using the order and permutation variable\n",
    "\"\"\"\n",
    "test_idx = order[:portion]\n",
    "train_idx = order[portion:]\n",
    "\n",
    "train_x = X[train_idx]\n",
    "train_y = Y[train_idx]\n",
    "\n",
    "test_x = X[test_idx]\n",
    "test_y = Y[test_idx]\n",
    "\n",
    "train_y = train_y.reshape(-1,)\n",
    "\n",
    "model = LinearRegression().fit(train_x, train_y, epochs=6)\n",
    "\n",
    "plt.plot(X[:,1], model.predict(X), c='g', label='Model')\n",
    "plt.scatter(train_x[:,1], train_y, c='b', label='Train Set')\n",
    "plt.scatter(test_x[:,1], test_y, c='r', label='Test Set')\n",
    "plt.grid()\n",
    "plt.legend(loc='best')\n",
    "plt.xlabel('X')\n",
    "plt.ylabel('Y')\n",
    "plt.show()"
   ]
  },
  {
   "cell_type": "code",
   "execution_count": 244,
   "metadata": {},
   "outputs": [
    {
     "data": {
      "text/plain": [
       "[<matplotlib.lines.Line2D at 0x7f98e9ab5890>]"
      ]
     },
     "execution_count": 244,
     "metadata": {},
     "output_type": "execute_result"
    },
    {
     "data": {
      "image/png": "[encoded data removed]",
      "text/plain": [
       "<Figure size 432x288 with 1 Axes>"
      ]
     },
     "metadata": {
      "needs_background": "light"
     },
     "output_type": "display_data"
    }
   ],
   "source": [
    "plt.plot(model.loss)"
   ]
  },
  {
   "cell_type": "code",
   "execution_count": 245,
   "metadata": {},
   "outputs": [],
   "source": [
    "class LogisticRegression:\n",
    "    \n",
    "    def fit(self, X, y, epochs=10, lr=0.1):\n",
    "        X = np.insert(X, 0, 1, axis=1)\n",
    "        self.weights = np.zeros(X.shape[1])\n",
    "        self.loss = []\n",
    "        Xs = X.T.dot(X)\n",
    "        for i in range(epochs):\n",
    "            h = self.sigmoid(X.dot(self.weights))\n",
    "            self.loss.append(self.get_loss(h,y))\n",
    "            invH =  np.linalg.pinv(Xs * h.dot(1-h))\n",
    "            gradient = (h - y).dot(X)\n",
    "            self.weights -= invH.dot(gradient)\n",
    "        return self\n",
    "    \n",
    "    def predict(self, X):\n",
    "        return self.sigmoid(np.insert(X, 0, 1, axis=1).dot(self.weights))\n",
    "    \n",
    "    def get_loss(self, h, y):\n",
    "        return np.abs(y.dot(np.log(h)) + (1 - y).dot(np.log(1 - h)))\n",
    "    \n",
    "    def sigmoid(self, z):\n",
    "        return 1/(1 + np.exp(-1 * z))\n",
    "    \n",
    "    def predict_classes(self, X):\n",
    "        return (self.predict(X) >= 0.5) * 1"
   ]
  },
  {
   "cell_type": "code",
   "execution_count": 246,
   "metadata": {},
   "outputs": [
    {
     "name": "stdout",
     "output_type": "stream",
     "text": [
      "[0.46901795 0.47771344]\n",
      "[0 0]\n"
     ]
    },
    {
     "data": {
      "text/plain": [
       "1.0"
      ]
     },
     "execution_count": 246,
     "metadata": {},
     "output_type": "execute_result"
    }
   ],
   "source": [
    "from sklearn.datasets import load_iris\n",
    "from sklearn.metrics import accuracy_score\n",
    "X, y = load_iris(return_X_y=True)\n",
    "clf = LogisticRegression().fit(X, (y !=0 )*1, lr=0.01, epochs=10)\n",
    "print(clf.predict(X[:2]))\n",
    "print(clf.predict_classes(X[:2]))\n",
    "pre = clf.predict_classes(X[:])\n",
    "accuracy_score((y !=0 )*1, pre)"
   ]
  },
  {
   "cell_type": "code",
   "execution_count": null,
   "metadata": {},
   "outputs": [],
   "source": []
  },
  {
   "cell_type": "code",
   "execution_count": null,
   "metadata": {},
   "outputs": [],
   "source": []
  }
 ],
 "metadata": {
  "kernelspec": {
   "display_name": "python3",
   "language": "python",
   "name": "python3"
  },
  "language_info": {
   "codemirror_mode": {
    "name": "ipython",
    "version": 2
   },
   "file_extension": ".py",
   "mimetype": "text/x-python",
   "name": "python",
   "nbconvert_exporter": "python",
   "pygments_lexer": "ipython2",
   "version": "2.7.16"
  }
 },
 "nbformat": 4,
 "nbformat_minor": 2
}
