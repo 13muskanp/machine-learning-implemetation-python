{
 "cells": [
  {
   "cell_type": "code",
   "execution_count": 4,
   "metadata": {},
   "outputs": [],
   "source": [
    "import numpy as np\n",
    "class LogisticRegression:\n",
    "    \n",
    "    def fit(self, X, y, epochs=10, lr=0.1):\n",
    "        X = np.insert(X, 0, 1, axis=1)\n",
    "        self.weights = np.zeros(X.shape[1])\n",
    "        self.loss = []\n",
    "        Xs = X.T.dot(X)\n",
    "        for i in range(epochs):\n",
    "            h = self.sigmoid(X.dot(self.weights))\n",
    "            self.loss.append(self.get_loss(h,y))\n",
    "            invH =  np.linalg.pinv(Xs * h.dot(1-h))\n",
    "            gradient = (h - y).dot(X)\n",
    "            self.weights -= invH.dot(gradient)\n",
    "        return self\n",
    "    \n",
    "    def predict(self, X):\n",
    "        return self.sigmoid(np.insert(X, 0, 1, axis=1).dot(self.weights))\n",
    "    \n",
    "    def get_loss(self, h, y):\n",
    "        return np.abs(y.dot(np.log(h)) + (1 - y).dot(np.log(1 - h)))\n",
    "    \n",
    "    def sigmoid(self, z):\n",
    "        return 1/(1 + np.exp(-1 * z))\n",
    "    \n",
    "    def predict_classes(self, X):\n",
    "        return (self.predict(X) >= 0.5) * 1"
   ]
  },
  {
   "cell_type": "code",
   "execution_count": null,
   "metadata": {},
   "outputs": [],
   "source": []
  },
  {
   "cell_type": "code",
   "execution_count": 7,
   "metadata": {},
   "outputs": [],
   "source": [
    "from sklearn.metrics import accuracy_score, f1_score\n",
    "def train_model(X, y, model):\n",
    "    model.fit(X, y, lr=0.1)\n",
    "    print(model.predict(X[:2, :]))\n",
    "    print(model.predict_classes(X[:2, :]))\n",
    "    pre = model.predict_classes(X)\n",
    "    print('Accuracy :: ', model.get_loss(model.predict(X), y))\n",
    "    print('F1 Score :: ', f1_score(y, pre))"
   ]
  },
  {
   "cell_type": "code",
   "execution_count": 8,
   "metadata": {},
   "outputs": [
    {
     "name": "stdout",
     "output_type": "stream",
     "text": [
      "[0.46901795 0.47771344]\n",
      "[0 0]\n",
      "('Accuracy :: ', 95.3393291345393)\n",
      "('F1 Score :: ', 1.0)\n"
     ]
    }
   ],
   "source": [
    "from sklearn.datasets import load_iris\n",
    "X, y = load_iris(return_X_y=True)\n",
    "train_model(X,(y !=0 )*1, LogisticRegression())"
   ]
  },
  {
   "cell_type": "code",
   "execution_count": 256,
   "metadata": {},
   "outputs": [
    {
     "name": "stdout",
     "output_type": "stream",
     "text": [
      "[0.49048766 0.49403437]\n",
      "[0 0]\n",
      "('Accuracy :: ', 0.9648506151142355)\n",
      "('F1 Score :: ', 0.9726027397260274)\n"
     ]
    }
   ],
   "source": [
    "from sklearn.datasets import load_breast_cancer\n",
    "X,y = load_breast_cancer(return_X_y=True)\n",
    "model = LogisticRegression()\n",
    "train_model(X,y, model)"
   ]
  },
  {
   "cell_type": "code",
   "execution_count": 258,
   "metadata": {},
   "outputs": [
    {
     "data": {
      "text/plain": [
       "array([ 1.75896854e-01,  1.51896300e-02, -3.17047148e-04, -1.65585845e-03,\n",
       "       -2.21690168e-05, -5.90715949e-03,  2.94487743e-01, -9.75106585e-02,\n",
       "       -1.49393191e-01, -7.16398499e-03, -2.31986997e-03, -3.03382659e-02,\n",
       "        4.71406827e-04,  1.57079149e-03,  6.43946929e-05, -1.10584177e+00,\n",
       "       -4.52706299e-03,  2.48692110e-01, -7.37116644e-01, -1.18389729e-01,\n",
       "        4.98465538e-01, -1.36140562e-02, -4.99368104e-04,  1.69845087e-04,\n",
       "        7.05330073e-05, -3.78643487e-02, -4.68430831e-03, -2.65881514e-02,\n",
       "       -3.23856876e-02, -3.88360534e-02, -3.00168736e-01])"
      ]
     },
     "execution_count": 258,
     "metadata": {},
     "output_type": "execute_result"
    }
   ],
   "source": [
    "model.weights"
   ]
  },
  {
   "cell_type": "code",
   "execution_count": null,
   "metadata": {},
   "outputs": [],
   "source": []
  }
 ],
 "metadata": {
  "kernelspec": {
   "display_name": "python3",
   "language": "python",
   "name": "python3"
  },
  "language_info": {
   "codemirror_mode": {
    "name": "ipython",
    "version": 2
   },
   "file_extension": ".py",
   "mimetype": "text/x-python",
   "name": "python",
   "nbconvert_exporter": "python",
   "pygments_lexer": "ipython2",
   "version": "2.7.16"
  }
 },
 "nbformat": 4,
 "nbformat_minor": 2
}
