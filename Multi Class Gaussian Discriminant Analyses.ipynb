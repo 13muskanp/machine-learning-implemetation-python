{
 "cells": [
  {
   "cell_type": "code",
   "execution_count": 1,
   "metadata": {},
   "outputs": [],
   "source": [
    "import numpy as np   \n",
    "\n",
    "class GDAClassifier:\n",
    "    \n",
    "    def fit(self, X, y, epsilon = 1e-10):\n",
    "        self.y_classes, y_counts = np.unique(y, return_counts=True)\n",
    "        self.phi_y = 1.0 * y_counts/len(y)\n",
    "        self.u = np.array([ X[y==k].mean(axis=0) for k in self.y_classes])\n",
    "        self.E = self.compute_sigma(X, y)\n",
    "        self.E += np.ones_like(self.E) * epsilon # fix zero overflow\n",
    "        self.invE = np.linalg.pinv(self.E)\n",
    "        return self\n",
    "    \n",
    "    def compute_sigma(self,X, y):\n",
    "        X_u = X.copy().astype('float64')\n",
    "        for i in range(len(self.u)):\n",
    "            X_u[y==self.y_classes[i]] -= self.u[i]\n",
    "        return X_u.T.dot(X_u) / len(y)\n",
    "\n",
    "    def predict(self, X):\n",
    "        return np.apply_along_axis(self.get_prob, 1, X)\n",
    "    \n",
    "    def score(self, X, y):\n",
    "        return (self.predict(X) == y).mean()\n",
    "    \n",
    "    def get_prob(self, x):\n",
    "        p = np.exp(-1.0 * np.sum((x - self.u).dot(self.invE) * (x - self.u), axis =1)) * self.phi_y\n",
    "        return np.argmax(p)"
   ]
  },
  {
   "cell_type": "code",
   "execution_count": 2,
   "metadata": {},
   "outputs": [],
   "source": [
    "from utils import train_test_split\n",
    "from sklearn.datasets import load_iris\n",
    "X,y = load_iris(return_X_y=True)\n",
    "X_train, X_test, y_train, y_test = train_test_split(X,y, test_size=0.8)\n",
    "model = GDAClassifier().fit(X_train,y_train)"
   ]
  },
  {
   "cell_type": "code",
   "execution_count": 3,
   "metadata": {},
   "outputs": [
    {
     "data": {
      "text/plain": [
       "0.975"
      ]
     },
     "execution_count": 3,
     "metadata": {},
     "output_type": "execute_result"
    }
   ],
   "source": [
    "model.score(X_test,y_test)"
   ]
  },
  {
   "cell_type": "code",
   "execution_count": 5,
   "metadata": {},
   "outputs": [
    {
     "data": {
      "text/plain": [
       "0.9296703296703297"
      ]
     },
     "execution_count": 5,
     "metadata": {},
     "output_type": "execute_result"
    }
   ],
   "source": [
    "from sklearn.datasets import load_breast_cancer\n",
    "X,y = load_breast_cancer(return_X_y=True)\n",
    "X_train, X_test, y_train, y_test = train_test_split(X,y, test_size=0.8)\n",
    "model = GDAClassifier().fit(X_train,y_train)\n",
    "model.score(X_test,y_test)"
   ]
  },
  {
   "cell_type": "code",
   "execution_count": 6,
   "metadata": {},
   "outputs": [
    {
     "data": {
      "text/plain": [
       "0.9510022271714922"
      ]
     },
     "execution_count": 6,
     "metadata": {},
     "output_type": "execute_result"
    }
   ],
   "source": [
    "from sklearn.datasets import load_digits\n",
    "digits = load_digits()\n",
    "X = digits.data\n",
    "y = digits.target\n",
    "X_train, X_test, y_train, y_test = train_test_split(X,y, test_size=0.5)\n",
    "model = GDAClassifier().fit(X_train,y_train)\n",
    "model.score(X_test,y_test)"
   ]
  },
  {
   "cell_type": "code",
   "execution_count": null,
   "metadata": {},
   "outputs": [],
   "source": []
  }
 ],
 "metadata": {
  "kernelspec": {
   "display_name": "python3",
   "language": "python",
   "name": "python3"
  },
  "language_info": {
   "codemirror_mode": {
    "name": "ipython",
    "version": 2
   },
   "file_extension": ".py",
   "mimetype": "text/x-python",
   "name": "python",
   "nbconvert_exporter": "python",
   "pygments_lexer": "ipython2",
   "version": "2.7.16"
  }
 },
 "nbformat": 4,
 "nbformat_minor": 2
}
