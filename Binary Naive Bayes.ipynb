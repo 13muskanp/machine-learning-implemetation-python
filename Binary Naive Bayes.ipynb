{
 "cells": [
  {
   "cell_type": "code",
   "execution_count": 4,
   "metadata": {},
   "outputs": [],
   "source": [
    "# %load naive_bayes.py\n",
    "import numpy as np\n",
    "\n",
    "class NaiveBayesBinaryClassifier:\n",
    "    \n",
    "    def fit(self, X, y):\n",
    "        self.y_classes, y_counts = np.unique(y, return_counts=True)\n",
    "        self.phi_y = 1.0 * y_counts/y_counts.sum()\n",
    "        self.phi_x = [1.0 * X[y==k].mean(axis=0) for k in self.y_classes]\n",
    "        return self\n",
    "    \n",
    "    def predict(self, X):\n",
    "        return np.apply_along_axis(lambda x: self.compute_probs(x), 1, X)\n",
    "    \n",
    "    def compute_probs(self, x):\n",
    "        probs = np.array([self.compute_prob(x, y) for y in range(len(self.y_classes))])\n",
    "        return self.y_classes[np.argmax(probs)]\n",
    "    \n",
    "    def compute_prob(self, x, y):\n",
    "        res = 1\n",
    "        for j in range(len(x)):\n",
    "            Pxy = self.phi_x[y][j] # p(xj=1|y)\n",
    "            res *= (Pxy**x[j])*((1-Pxy)**(1-x[j])) # p(xj=0|y)\n",
    "        return res * self.phi_y[y]\n",
    "    \n",
    "    def evaluate(self, X, y):\n",
    "        return (self.predict(X) == y).mean()"
   ]
  }
 ],
 "metadata": {
  "kernelspec": {
   "display_name": "python3",
   "language": "python",
   "name": "python3"
  },
  "language_info": {
   "codemirror_mode": {
    "name": "ipython",
    "version": 2
   },
   "file_extension": ".py",
   "mimetype": "text/x-python",
   "name": "python",
   "nbconvert_exporter": "python",
   "pygments_lexer": "ipython2",
   "version": "2.7.16"
  }
 },
 "nbformat": 4,
 "nbformat_minor": 2
}
