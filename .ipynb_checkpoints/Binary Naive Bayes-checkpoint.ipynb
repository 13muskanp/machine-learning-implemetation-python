{
 "cells": [
  {
   "cell_type": "markdown",
   "metadata": {},
   "source": [
    "## Naive Bayes Classifier Implementation using numpy\n",
    "\n",
    "Naive Bayes is anoother supervised machine laerning algorithm for classification problem. It makes a strong assumption about the data that **each feature is independent of the value of any other feature**. For example, a fruit may be considered to be an apple if it is red, round, and about 10 cm in diameter. A naive Bayes classifier considers each of these features to contribute independently to the probability that this fruit is an apple, regardless of any possible correlations between the color, roundness, and diameter features.\n",
    "\n",
    "In Naive bayes classifier what we are trying to find is the probability that a given data point belogs to a specific class, we are going to have prediction for all the class in our target.\n",
    "\n",
    "\n",
    "![title](figures/bayes-theorem.png)\n",
    "\n",
    "This is bernolli naive bayes impementation, which we expecting the features to be true or false (1 or 0)."
   ]
  },
  {
   "cell_type": "code",
   "execution_count": 72,
   "metadata": {},
   "outputs": [],
   "source": [
    "# %load naive_bayes.py\n",
    "import numpy as np\n",
    "\n",
    "class NaiveBayesBinaryClassifier:\n",
    "    \n",
    "    def fit(self, X, y):\n",
    "        self.y_classes, y_counts = np.unique(y, return_counts=True)\n",
    "        self.phi_y = 1.0 * y_counts/y_counts.sum()\n",
    "        self.phi_x = [1.0 * X[y==k].mean(axis=0) for k in self.y_classes]\n",
    "        return self\n",
    "    \n",
    "    def predict(self, X):\n",
    "        return np.apply_along_axis(lambda x: self.compute_probs(x), 1, X)\n",
    "    \n",
    "    def compute_probs(self, x):\n",
    "        probs = [self.compute_prob(x, y) for y in range(len(self.y_classes))]\n",
    "        return self.y_classes[np.argmax(probs)]\n",
    "    \n",
    "    def compute_prob(self, x, y):\n",
    "        res = 1\n",
    "        for j in range(len(x)):\n",
    "            Pxy = self.phi_x[y][j] # p(xj=1|y)\n",
    "            res *= (Pxy**x[j])*((1-Pxy)**(1-x[j])) # p(xj=0|y)\n",
    "        return res * self.phi_y[y]\n",
    "    \n",
    "    def score(self, X, y):\n",
    "        return (self.predict(X) == y).mean()"
   ]
  },
  {
   "cell_type": "code",
   "execution_count": null,
   "metadata": {},
   "outputs": [],
   "source": []
  }
 ],
 "metadata": {
  "kernelspec": {
   "display_name": "python3",
   "language": "python",
   "name": "python3"
  },
  "language_info": {
   "codemirror_mode": {
    "name": "ipython",
    "version": 2
   },
   "file_extension": ".py",
   "mimetype": "text/x-python",
   "name": "python",
   "nbconvert_exporter": "python",
   "pygments_lexer": "ipython2",
   "version": "2.7.16"
  }
 },
 "nbformat": 4,
 "nbformat_minor": 2
}
